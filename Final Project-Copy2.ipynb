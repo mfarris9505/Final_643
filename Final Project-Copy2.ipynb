{
 "cells": [
  {
   "cell_type": "markdown",
   "metadata": {},
   "source": [
    "# Creation of a Full Recommender System through Contextual Decoupling"
   ]
  },
  {
   "cell_type": "markdown",
   "metadata": {},
   "source": [
    "## Introduction"
   ]
  },
  {
   "cell_type": "markdown",
   "metadata": {},
   "source": [
    "Throughout this course, we have progressed with more and more advanced models for Recommender Systems. In this final step, we propose a complete Recommender System, that takes advantage of an large and vast dataset in order conduct an in depth investigation into the ideas that we have explored over the course of the last 7 weeks. Unlike the other projects that focused specifically on implement small recommender systems, our project here focuses on optimization of several ideas in order to implement a complete Recommender system, that takes time costs, and processing speed into consideration. Again our data is targeted torwards the movie genre (as again the dataset is readily available), but here we propose a more broad scope of techniques to minimize processing speed and optimize accuracy. As we move forward with technology, our amount of data continues to exponential grow, and the best way to process this vast source of data. Our target audience here would be any data host, with a continually growing data source, as we would like to be able to create a continually adaptable recommender system that does not require an epic amount of processing time. The way we propose to do this is to utilize the idea of Decoupling "
   ]
  },
  {
   "cell_type": "markdown",
   "metadata": {},
   "source": [
    "## Data Source and Cleaning"
   ]
  },
  {
   "cell_type": "markdown",
   "metadata": {},
   "source": [
    "For this project we will continue to use the MovieLens data source. However, in previous project we utilized that smaller of the dataset, as we are scaling this to a large source, we will move to the 1 million dataset. The dataset utilized in this project was slightly different, and required a significant amount of cleaning (for whatever reason they decided to save the data in a completely different format for the 1 million dataset). A complete copy of the code for data_extraction is given in the attached Data Extraction.py file in the github page. The datasets we extracted are given below: \n",
    "* Movie Content\n",
    "    * Total 3706 Movies Titles with 18 features\n",
    "    * Each column represents a genre:\"Action\",\"Adventure\",\"Animation\",\"Children's\",\"Comedy\",\"Crime\", \"Documentary\",\"Drama\",\"Fantasy\",\"Film-Noir\",\"Horror\",\"Musical\",\"Mystery\",\"Romance\",\"Sci-Fi\",\"Thriller\",\"War\",\"Western\"\n",
    "    * A specific movie can have more than 1 genre (the most any one movie has is 6)\n",
    "* User Content \n",
    "    * Total 6040 users with 29 features\n",
    "    * Features in order are Column 1 = Gender, Column 2-21 = specific job, and column 22-29 an age Range given as follows:\n",
    "        *  1:  \"Under 18\"\n",
    "        * 18:  \"18-24\"\n",
    "        * 25:  \"25-34\"\n",
    "        * 35:  \"35-44\"\n",
    "        * 45:  \"45-49\"\n",
    "        * 50:  \"50-55\"\n",
    "        * 56:  \"56+\"   \n",
    "The source code for data extraction is given below: (please note this is only the data)"
   ]
  },
  {
   "cell_type": "code",
   "execution_count": 124,
   "metadata": {
    "collapsed": false
   },
   "outputs": [],
   "source": [
    "import pandas as pd \n",
    "import numpy as np\n",
    "import matplotlib.pyplot as plt\n",
    "import math\n",
    "from sklearn.metrics import pairwise_distances\n",
    "from sklearn.metrics import mean_squared_error\n",
    "from sklearn.metrics import mean_absolute_error\n",
    "\n",
    "#Data file containing ratings data\n",
    "ratings = pd.read_csv(\"data/ratings.dat\", delimiter =\"::\", header=None, \n",
    "                      names=[\"user_id\", \"movies_id\",\"rating\",\"timestamp\"],engine='python')\n",
    "\n",
    "#Data containing movie data\n",
    "movies = pd.read_csv(\"data/movies.dat\", delimiter =\"::\", header=None, \n",
    "                      names=[\"movies_id\",\"title\",\"genre\"], engine='python')\n",
    "\n",
    "#Data containing User Data \n",
    "users = pd.read_csv(\"data/users.dat\", delimiter =\"::\", header=None, \n",
    "                      names=[\"user_id\", \"gender\",\"age\",\"occupation\",\"zip\"], engine='python')\n",
    "\n",
    "#Extracting Data Ratings data:\n",
    "ratings = ratings.drop([\"timestamp\"], 1)\n",
    "ratings_int = ratings.pivot(index = \"user_id\", columns = \"movies_id\", values = \"rating\")\n",
    "\n",
    "#Extracting Movies Data\n",
    "movie_titles = movies \n",
    "\n",
    "genres = [\"Action\",\"Adventure\",\"Animation\",\"Children's\",\"Comedy\",\"Crime\",\n",
    "          \"Documentary\",\"Drama\",\"Fantasy\",\"Film-Noir\",\"Horror\",\"Musical\",\n",
    "          \"Mystery\",\"Romance\",\"Sci-Fi\",\"Thriller\",\"War\",\"Western\"]\n",
    "\n",
    "movies = movies.drop([\"title\"],1)\n",
    "movies = movies.set_index(\"movies_id\")\n",
    "movies = movies['genre'].str.split(\"|\", expand = True)\n",
    "\n",
    "dummies1 = pd.get_dummies(movies[0], prefix='genre', prefix_sep='_')\n",
    "col_names_dummies = dummies1.columns.values\n",
    "\n",
    "dummies2 = pd.get_dummies(movies[1], prefix='genre', prefix_sep='_')\n",
    "col_names_dummies = dummies1.columns.values\n",
    "\n",
    "dummies3 = pd.get_dummies(movies[2], prefix='genre', prefix_sep='_')\n",
    "col_names_dummies = dummies1.columns.values\n",
    "\n",
    "dummies4 = pd.get_dummies(movies[3], prefix='genre', prefix_sep='_')\n",
    "col_names_dummies = dummies1.columns.values\n",
    "\n",
    "dummies5 = pd.get_dummies(movies[4], prefix='genre', prefix_sep='_')\n",
    "col_names_dummies = dummies1.columns.values\n",
    "\n",
    "dummies6 = pd.get_dummies(movies[5], prefix='genre', prefix_sep='_')\n",
    "col_names_dummies = dummies1.columns.values\n",
    "\n",
    "names = dummies1.columns.values\n",
    "\n",
    "dummies = dummies1.replace(0,np.nan)\n",
    "dummies2 = dummies2.replace(0,np.nan)\n",
    "dummies3 = dummies3.replace(0,np.nan)\n",
    "dummies4 = dummies4.replace(0,np.nan)\n",
    "dummies5 = dummies5.replace(0,np.nan)\n",
    "dummies = dummies.combine_first(dummies2)\n",
    "dummies = dummies.combine_first(dummies3)\n",
    "dummies = dummies.combine_first(dummies4)\n",
    "dummies = dummies.combine_first(dummies5)\n",
    "\n",
    "dummies = dummies.fillna(0)\n",
    "movies = dummies\n",
    "name = list(ratings_int.columns.values)\n",
    "movies = movies.T\n",
    "movies = movies[name]\n",
    "movies = movies.T\n",
    "\n",
    "#Extracting User Data\n",
    "users = users.set_index(\"user_id\")\n",
    "#Creating Dummy col for jobs\n",
    "dummies = pd.get_dummies(users['occupation'], prefix='job', prefix_sep='_')\n",
    "col_names_dummies = dummies.columns.values\n",
    "\n",
    "for i,value in enumerate(col_names_dummies):\n",
    "    users[value] = dummies.iloc[:,i]\n",
    "\n",
    "#Creating Dummy col for age\n",
    "dummies = pd.get_dummies(users['age'], prefix='age', prefix_sep='_')\n",
    "col_names_dummies = dummies.columns.values\n",
    "\n",
    "for i,value in enumerate(col_names_dummies):\n",
    "    users[value] = dummies.iloc[:,i]\n",
    "\n",
    "map_gender = {\"M\":0,\"F\":1}\n",
    "users = users.replace({\"gender\": map_gender})\n",
    "users = users.drop([\"age\",\"occupation\",\"zip\"], 1)\n",
    "\n",
    "# Borrowed some code here from Padebetttu et. al. -DATA643- Project 2\n",
    "ratings_mean = ratings_int.apply(lambda x: x.fillna(x.mean(skipna = True)),axis=1)\n",
    "ratings = ratings_mean.apply(lambda x: x-x.mean(), axis = 1).round(5)"
   ]
  },
  {
   "cell_type": "markdown",
   "metadata": {},
   "source": [
    "## Methodology"
   ]
  },
  {
   "cell_type": "markdown",
   "metadata": {},
   "source": [
    "Like Project 4, the same Data Acquistion and Normalization step will be done with our final. The first two steps are a repeat of the methodology from Project 4's Proposal.\n",
    "* Data Acquistion and Normaliation\n",
    "    * The first step of this process will be to process the data. For the data will be organized into 3 matrices, a User-content matrix, an Item-Content Matrix and a User-Item Rating matrix. For the movie and User content matrices, each row will represent an movie or user, respectively, while the columns will represent a specific aspect of the movie or user. For istances, all the movie break downs will be either 0 or 1, indicating if it belongs to a specific genre (19 in total). For the users, each column will represnt a specific age range the belong to, their gender, and their occupation. \n",
    "* Matrix Factorization \n",
    "    * For our process here we will utilized standard Singular Value Decomposition for the most part. However, an attempt will be made at utilizing Weighted ALS for a smaller subset. The idea here is that we can \"fill\" in the larger sparse data with a subset chosen based on age. This in theory would weight the factorization, and skew it heavily on the side of the age range picked (the thought here being that you would complete each ALS factorization for all the age ranges). As SVD tends to produce values that \"overfit\" producing values that meet the factorization, but do are not viable, the other factorization process are preferred.    \n",
    "    * The idea her would be to create multiple iterations, \"randomly\" splitting the dataset as a whole, completing the subset matrices, and then combining the subsets into the whole. After each iteration, we would then calculate the RMSE, and then repeat the process. Theoretically, after each step, the RMSE would decrease (if it is indeed the case)[5]. (I am attempting to obtain the publication for Barjasteh et. al [5]. At the moment I'd have to purchase it, but I signed up for free version through requests). From the video, there was some doubts on whether or not these results were accurate. Though they utilize a much more complex system, then the one I propose, if their stipulation that one can complete thest small subsets (that meet certain rank requirements) at random and produce accurate results. For our purposes here, due to the inability to get the AWS Sparks running, we are changing the \"Randomly\" selected datasets, and replacing them with specific contextual based subsets. First, each age range was extracted, with the understanding that people of different age groups will rate differently, based on personal preference. Using SVD, each of these individual subsets were then factored down and reproduced using a smaller feature set (k= 50 this number was chosen based on previous projects). Furthermore, we took several genre examples as well. I chose the 7 genres that I felt most distinctly represented the group as a whole: action, children's, comedy, drama, horror, romance, and sci-fi.One cause for concern however, was that each "
   ]
  },
  {
   "cell_type": "markdown",
   "metadata": {},
   "source": [
    "## Experimentation"
   ]
  },
  {
   "cell_type": "markdown",
   "metadata": {},
   "source": [
    "Taking the above data, and using a modified SVD code, we created several subsets based on age and genre as described above. "
   ]
  },
  {
   "cell_type": "code",
   "execution_count": 125,
   "metadata": {
    "collapsed": false
   },
   "outputs": [],
   "source": [
    "#Context Break-down to \"Decouple\" Data for age\n",
    "def subset_users(ratings,users,col):\n",
    "    Rating= ratings.loc[list(users[users[col] >0].T.columns.values)]\n",
    "    return Rating\n",
    "\n",
    "Ratings_1 = subset_users(ratings,users,'age_1')\n",
    "Ratings_2 = subset_users(ratings,users,'age_18')\n",
    "Ratings_3 = subset_users(ratings,users,'age_25')\n",
    "Ratings_4 = subset_users(ratings,users,'age_35')\n",
    "Ratings_5 = subset_users(ratings,users,'age_45')\n",
    "Ratings_6 = subset_users(ratings,users,'age_50')\n",
    "Ratings_7 = subset_users(ratings,users,'age_56')\n",
    "\n",
    "    \n",
    "#Context Break_down by Genre(NOT A COMPLETE LIST)\n",
    "def subset_movies(ratings, movies,col):\n",
    "    Rating = ratings[list(movies[movies[col] >0].T.columns.values)]\n",
    "    return Rating\n",
    "\n",
    "genre_1 = subset_movies(ratings, movies,'genre_Action')\n",
    "genre_2 = subset_movies(ratings, movies,\"genre_Children's\")\n",
    "genre_3 = subset_movies(ratings, movies,'genre_Comedy')\n",
    "genre_4 = subset_movies(ratings, movies,'genre_Drama')\n",
    "genre_5 = subset_movies(ratings, movies,'genre_Horror')\n",
    "genre_6 = subset_movies(ratings, movies,'genre_Romance')\n",
    "genre_7 = subset_movies(ratings, movies,'genre_Sci-Fi')\n",
    "\n",
    "#SVD Function we are using (time efficient)\n",
    "def svd_red(movies,n):\n",
    "    col = list(movies.columns.values)\n",
    "    index = list(movies.index.values)\n",
    "    U1, s1, V1 = np.linalg.svd(movies, full_matrices=True)\n",
    "    k = np.zeros((len(s1),len(s1)),float)\n",
    "    np.fill_diagonal(k,s1)\n",
    "    k = k[:n,:n]\n",
    "    k = np.sqrt(k)\n",
    "    U2 = U1[:,:n]\n",
    "    V2 =V1[:,:n].T\n",
    "    Uk = np.dot(U2,k.T)\n",
    "    Vk = np.dot(k,V2)\n",
    "    R_red = np.dot(Uk,Vk)\n",
    "    R_red = pd.DataFrame(R_red, index = index, columns=col)\n",
    "    return R_red\n",
    "\n",
    "#Final Variable\n",
    "\n",
    "Total = svd_red(ratings, 50)\n",
    "\n",
    "#Ages\n",
    "rate_1 = svd_red(Ratings_1, 50)\n",
    "rate_2 = svd_red(Ratings_2, 50)\n",
    "rate_3 = svd_red(Ratings_3, 50)\n",
    "rate_4 = svd_red(Ratings_4, 50)\n",
    "rate_5 = svd_red(Ratings_5, 50)\n",
    "rate_6 = svd_red(Ratings_6, 50)\n",
    "rate_7 = svd_red(Ratings_7, 50)\n",
    "#Genres\n",
    "g_rate_1 = svd_red(genre_1, 50)\n",
    "g_rate_2 = svd_red(genre_2, 50)\n",
    "g_rate_3 = svd_red(genre_3, 50)\n",
    "g_rate_4 = svd_red(genre_4, 50)\n",
    "g_rate_5 = svd_red(genre_5, 50)\n",
    "g_rate_6 = svd_red(genre_6, 50)\n",
    "g_rate_7 = svd_red(genre_7, 50)\n"
   ]
  },
  {
   "cell_type": "markdown",
   "metadata": {},
   "source": [
    "Now we can take each level and recreate the initial dataframe from the individual pieces:"
   ]
  },
  {
   "cell_type": "code",
   "execution_count": 126,
   "metadata": {
    "collapsed": false
   },
   "outputs": [],
   "source": [
    "Total_age = ratings.replace(0,np.nan)\n",
    "Total_age = Total_age.combine_first(rate_1)\n",
    "Total_age = Total_age.combine_first(rate_2)\n",
    "Total_age = Total_age.combine_first(rate_3)\n",
    "Total_age = Total_age.combine_first(rate_4)\n",
    "Total_age = Total_age.combine_first(rate_5)\n",
    "Total_age = Total_age.combine_first(rate_6)\n",
    "Total_age = Total_age.combine_first(rate_7)\n",
    "\n",
    "#Genre\n",
    "Total_genre = ratings.replace(0,np.nan)\n",
    "Total_genre = Total_genre.combine_first(g_rate_1)\n",
    "Total_genre = Total_genre.combine_first(g_rate_2)\n",
    "Total_genre = Total_genre.combine_first(g_rate_3)\n",
    "Total_genre = Total_genre.combine_first(g_rate_4)\n",
    "Total_genre = Total_genre.combine_first(g_rate_5)\n",
    "Total_genre = Total_genre.combine_first(g_rate_6)\n",
    "Total_genre = Total_genre.combine_first(g_rate_7)\n"
   ]
  },
  {
   "cell_type": "markdown",
   "metadata": {},
   "source": [
    "Taking these initialized datasets, we know have pre-fabricated dataframes that we can test against the straight SVD dataset. In theory the prefabricated datasets should create a more accurate picture, as they are broken down into similar contextual elements. "
   ]
  },
  {
   "cell_type": "code",
   "execution_count": 127,
   "metadata": {
    "collapsed": false
   },
   "outputs": [],
   "source": [
    "#Creates final Preduction based on Simmiliarity Matrix \n",
    "def pred_fin(Q,sim):\n",
    "    pred = Q.dot(sim) / np.array([np.abs(sim).sum(axis=1)]) \n",
    "    return pred\n",
    "\n",
    "#Using SVD on the Content Matrix to create similarity matrix\n",
    "movie_U = svd_red(movies,10)\n",
    "user_U = svd_red(users,10)\n",
    "\n",
    "item_sim = 1 - pairwise_distances(movie_U, metric='cosine')\n",
    "user_sim = 1 - pairwise_distances(user_U, metric='cosine')\n",
    "\n",
    "#Fill in NAN for the Genre\n",
    "Total_genre = Total_genre.fillna(0)"
   ]
  },
  {
   "cell_type": "code",
   "execution_count": 128,
   "metadata": {
    "collapsed": false
   },
   "outputs": [],
   "source": [
    "Genre_item_final = pred_fin(Total_genre.as_matrix().T,user_sim).T\n",
    "Genre_user_final = pred_fin(Total_genre.as_matrix(),item_sim)\n",
    "\n",
    "Age_item_final = pred_fin(Total_age.as_matrix().T,user_sim).T\n",
    "Age_user_final = pred_fin(Total_age.as_matrix(),item_sim)\n",
    "\n",
    "Total_item_final = pred_fin(Total.as_matrix().T,user_sim).T\n",
    "Total_user_final = pred_fin(Total.as_matrix(),item_sim)\n",
    "\n"
   ]
  },
  {
   "cell_type": "code",
   "execution_count": 129,
   "metadata": {
    "collapsed": false
   },
   "outputs": [],
   "source": [
    "ratings_matrix = ratings.as_matrix()\n",
    "RMSE_user=[]\n",
    "RMSE_user.append(mean_squared_error(ratings_matrix[np.where(ratings_matrix != 0)], Genre_user_final[np.where(ratings_matrix != 0)]))\n",
    "RMSE_user.append(mean_squared_error(ratings_matrix[np.where(ratings_matrix != 0)], Age_user_final[np.where(ratings_matrix != 0)]))\n",
    "RMSE_user.append(mean_squared_error(ratings_matrix[np.where(ratings_matrix != 0)], Total_user_final[np.where(ratings_matrix != 0)]))\n",
    "\n",
    "RMSE_item=[]\n",
    "RMSE_item.append(mean_squared_error(ratings_matrix[np.where(ratings_matrix != 0)], Genre_item_final[np.where(ratings_matrix != 0)]))\n",
    "RMSE_item.append(mean_squared_error(ratings_matrix[np.where(ratings_matrix != 0)], Age_item_final[np.where(ratings_matrix != 0)]))\n",
    "RMSE_item.append(mean_squared_error(ratings_matrix[np.where(ratings_matrix != 0)], Total_item_final[np.where(ratings_matrix != 0)]))"
   ]
  },
  {
   "cell_type": "code",
   "execution_count": 130,
   "metadata": {
    "collapsed": false
   },
   "outputs": [
    {
     "data": {
      "text/plain": [
       "[1.0472917561252513, 1.0473580920769943, 1.0601397161266157]"
      ]
     },
     "execution_count": 130,
     "metadata": {},
     "output_type": "execute_result"
    }
   ],
   "source": [
    "RMSE_user"
   ]
  },
  {
   "cell_type": "code",
   "execution_count": 131,
   "metadata": {
    "collapsed": false
   },
   "outputs": [
    {
     "data": {
      "text/plain": [
       "[1.0145538519368262, 1.0135926332526435, 1.0599328714643708]"
      ]
     },
     "execution_count": 131,
     "metadata": {},
     "output_type": "execute_result"
    }
   ],
   "source": [
    "RMSE_item"
   ]
  },
  {
   "cell_type": "code",
   "execution_count": 132,
   "metadata": {
    "collapsed": false
   },
   "outputs": [
    {
     "data": {
      "text/plain": [
       "<matplotlib.legend.Legend at 0x1731ac88>"
      ]
     },
     "execution_count": 132,
     "metadata": {},
     "output_type": "execute_result"
    },
    {
     "data": {
      "image/png": "[encoded data removed]",
      "text/plain": [
       "<matplotlib.figure.Figure at 0x1b8f3780>"
      ]
     },
     "metadata": {},
     "output_type": "display_data"
    }
   ],
   "source": [
    "%matplotlib inline\n",
    "N = 3\n",
    "ind = np.arange(N)  # the x locations for the groups\n",
    "width = 0.35       # the width of the bars\n",
    "fig, ax = plt.subplots()\n",
    "\n",
    "rects1 = ax.bar(ind, RMSE_user, width, color='r')\n",
    "\n",
    "rects2 = ax.bar(ind + width, RMSE_item, width, color='g')\n",
    "\n",
    "# add some text for labels, title and axes ticks\n",
    "ax.set_ylabel('Scores')\n",
    "ax.set_title('RMSE of User-User vs Item-Item')\n",
    "ax.set_xticks(ind + width)\n",
    "ax.set_xticklabels(('Genre', 'Age', 'SVD'))\n",
    "\n",
    "ax.legend((rects1[0], rects2[0]), ('User-User', 'Item-Item'), loc = 4)"
   ]
  },
  {
   "cell_type": "markdown",
   "metadata": {},
   "source": [
    "### Testing Smaller Decoupled Datasets with ALS"
   ]
  },
  {
   "cell_type": "markdown",
   "metadata": {},
   "source": [
    "Fixing At the moment? "
   ]
  },
  {
   "cell_type": "code",
   "execution_count": 133,
   "metadata": {
    "collapsed": false
   },
   "outputs": [],
   "source": [
    "def get_error(Q, X, Y, W):\n",
    "    return np.sum((W * (Q - np.dot(X, Y)))**2)\n",
    "\n",
    "def ALS_Factor(Q, lambda_, n_factors, n_iterations):\n",
    "\n",
    "    col = list(Q.columns.values)\n",
    "    index = list(Q.index.values)\n",
    "    Q = Q.as_matrix()\n",
    "    W = Q != 0\n",
    "    W[W == True] = 1\n",
    "    W[W == False] = 0\n",
    "    # To be consistent with our Q matrix\n",
    "    W = W.astype(np.float64, copy=False)\n",
    "    m, n = Q.shape\n",
    "\n",
    "   \n",
    "    X = 5 * np.random.rand(m, n_factors) \n",
    "    Y = 5 * np.random.rand(n_factors, n)\n",
    "\n",
    "    weighted_errors = []\n",
    "    for ii in range(n_iterations):\n",
    "        for u, Wu in enumerate(W):\n",
    "            X[u] = np.linalg.solve(np.dot(Y, np.dot(np.diag(Wu), Y.T)) + lambda_ * np.eye(n_factors), np.dot(Y, np.dot(np.diag(Wu), Q[u].T))).T\n",
    "        for i, Wi in enumerate(W.T):\n",
    "            Y[:,i] = np.linalg.solve(np.dot(X.T, np.dot(np.diag(Wi), X)) + lambda_ * np.eye(n_factors), np.dot(X.T, np.dot(np.diag(Wi), Q[:, i])))\n",
    "        \n",
    "        weighted_errors.append(get_error(Q, X, Y, W))\n",
    "        print('{}th iteration is completed'.format(ii))\n",
    "        \n",
    "    weighted_Q_hat = np.dot(X,Y)\n",
    "\n",
    "    weighted_Q_hat = pd.DataFrame(weighted_Q_hat, index = index, columns=col)\n",
    "    return weighted_Q_hat, weighted_errors"
   ]
  },
  {
   "cell_type": "code",
   "execution_count": 134,
   "metadata": {
    "collapsed": false
   },
   "outputs": [
    {
     "name": "stdout",
     "output_type": "stream",
     "text": [
      "0th iteration is completed\n",
      "1th iteration is completed\n",
      "2th iteration is completed\n",
      "3th iteration is completed\n",
      "4th iteration is completed\n",
      "5th iteration is completed\n",
      "6th iteration is completed\n",
      "7th iteration is completed\n",
      "8th iteration is completed\n",
      "9th iteration is completed\n",
      "10th iteration is completed\n",
      "11th iteration is completed\n",
      "12th iteration is completed\n",
      "13th iteration is completed\n",
      "14th iteration is completed\n",
      "15th iteration is completed\n",
      "16th iteration is completed\n",
      "17th iteration is completed\n",
      "18th iteration is completed\n",
      "19th iteration is completed\n"
     ]
    }
   ],
   "source": [
    "ALS_Rate_1, error = ALS_Factor(Ratings_1, .1,10,20)"
   ]
  },
  {
   "cell_type": "code",
   "execution_count": 135,
   "metadata": {
    "collapsed": false
   },
   "outputs": [],
   "source": [
    "ALS_Add = ratings.combine_first(ALS_Rate_1)\n",
    "ALS_Add_SVD = svd_red(ALS_Add,100)\n",
    "\n",
    "ALS_user_final = pred_fin(ALS_Add.as_matrix().T,user_sim).T\n",
    "ALS_item_final = pred_fin(ALS_Add.as_matrix(),item_sim)\n",
    "\n",
    "RMSE_user.append(mean_squared_error(ratings_matrix[np.where(ratings_matrix != 0)], ALS_user_final[np.where(ratings_matrix != 0)]))\n",
    "RMSE_item.append(mean_squared_error(ratings_matrix[np.where(ratings_matrix != 0)], ALS_item_final[np.where(ratings_matrix != 0)]))"
   ]
  },
  {
   "cell_type": "code",
   "execution_count": 136,
   "metadata": {
    "collapsed": false
   },
   "outputs": [
    {
     "data": {
      "text/plain": [
       "[1.0472917561252513,\n",
       " 1.0473580920769943,\n",
       " 1.0601397161266157,\n",
       " 1.0134989900003573]"
      ]
     },
     "execution_count": 136,
     "metadata": {},
     "output_type": "execute_result"
    }
   ],
   "source": [
    "RMSE_user"
   ]
  },
  {
   "cell_type": "code",
   "execution_count": 137,
   "metadata": {
    "collapsed": false
   },
   "outputs": [
    {
     "data": {
      "text/plain": [
       "<matplotlib.legend.Legend at 0x172f6e48>"
      ]
     },
     "execution_count": 137,
     "metadata": {},
     "output_type": "execute_result"
    },
    {
     "data": {
      "image/png": "[encoded data removed]",
      "text/plain": [
       "<matplotlib.figure.Figure at 0x13bbfeb8>"
      ]
     },
     "metadata": {},
     "output_type": "display_data"
    }
   ],
   "source": [
    "%matplotlib inline\n",
    "N = 4\n",
    "ind = np.arange(N)  # the x locations for the groups\n",
    "width = 0.35       # the width of the bars\n",
    "fig, ax = plt.subplots()\n",
    "\n",
    "rects1 = ax.bar(ind, RMSE_user, width, color='r')\n",
    "\n",
    "rects2 = ax.bar(ind + width, RMSE_item, width, color='g')\n",
    "\n",
    "# add some text for labels, title and axes ticks\n",
    "ax.set_ylabel('Scores')\n",
    "ax.set_title('RMSE of User-User vs Item-Item')\n",
    "ax.set_xticks(ind + width)\n",
    "ax.set_xticklabels(('Genre', 'Age', 'SVD', 'ALS'))\n",
    "\n",
    "ax.legend((rects1[0], rects2[0]), ('User-User', 'Item-Item'), loc = 4)"
   ]
  },
  {
   "cell_type": "markdown",
   "metadata": {},
   "source": [
    "## Evaluating the Recommendations"
   ]
  },
  {
   "cell_type": "markdown",
   "metadata": {},
   "source": [
    "Now that we have all of our matrices we can determine on a smaller scale how well they all do with our \"test group\" For this we picked a small subset, all of the users under the age of 18. In theory, these would be the group that would obviously rate \"children's\" genre. So what we want here is to see if the average rating over ALL of the users produces near enough to the average of the actual rated movies. For this we picked 5 random movies, and took the average from the actual, and compared it to the averages from the various experiments tried. "
   ]
  },
  {
   "cell_type": "code",
   "execution_count": 180,
   "metadata": {
    "collapsed": false
   },
   "outputs": [],
   "source": [
    "#Getting The Mean to add back\n",
    "Rating_mean = ratings_int.mean(0,skipna=True)\n",
    "\n",
    "W = W != 0\n",
    "W[W == True] = 1\n",
    "W[W == False] = 0\n",
    "W = W.astype(np.float64, copy=False)\n",
    "\n",
    "def avg_rating(ratings,movies,users,col_user,col_movies):\n",
    "    Rate = ratings.add(Rating_mean, axis= 1)\n",
    "    Rate = W * Rate\n",
    "    Rate = subset_movies(Rate,movies,col_movies)\n",
    "    Rate = subset_users(Rate,users,col_user)\n",
    "    Rate = Rate.replace(0, np.nan)\n",
    "    mean = Rate.mean(skipna=True,axis=0)\n",
    "    std = Rate.std(skipna=True,axis=0)\n",
    "\n",
    "    return mean, std\n",
    "\n",
    "col = list(Q.columns.values)\n",
    "index = list(Q.index.values)\n",
    "\n",
    "ratings = pd.DataFrame(ratings, index = index, columns=col)\n",
    "Total_user_final = pd.DataFrame(Total_user_final, index = index, columns=col)\n",
    "Age_user_final = pd.DataFrame(Age_user_final, index = index, columns=col)\n",
    "ALS_user_final = pd.DataFrame(ALS_user_final, index = index, columns=col)\n",
    "\n",
    "\n"
   ]
  },
  {
   "cell_type": "markdown",
   "metadata": {},
   "source": [
    "### Calculating Average Values"
   ]
  },
  {
   "cell_type": "code",
   "execution_count": 182,
   "metadata": {
    "collapsed": false
   },
   "outputs": [],
   "source": [
    "mean0, std0 =avg_rating(ratings,movies,users,'age_1',\"genre_Children's\")"
   ]
  },
  {
   "cell_type": "code",
   "execution_count": 183,
   "metadata": {
    "collapsed": false
   },
   "outputs": [],
   "source": [
    "mean1, std1 = avg_rating(Total_user_final,movies,users,'age_1',\"genre_Children's\")"
   ]
  },
  {
   "cell_type": "code",
   "execution_count": 184,
   "metadata": {
    "collapsed": false
   },
   "outputs": [],
   "source": [
    "mean3, std3 =avg_rating(Age_user_final,movies,users,'age_1',\"genre_Children's\")"
   ]
  },
  {
   "cell_type": "code",
   "execution_count": 185,
   "metadata": {
    "collapsed": true
   },
   "outputs": [],
   "source": [
    "mean5, std5 =avg_rating(ALS_user_final,movies,users,'age_1',\"genre_Children's\")"
   ]
  },
  {
   "cell_type": "code",
   "execution_count": 198,
   "metadata": {
    "collapsed": false,
    "scrolled": true
   },
   "outputs": [],
   "source": [
    "ls = [1,56,146,3114,3287]"
   ]
  },
  {
   "cell_type": "code",
   "execution_count": 215,
   "metadata": {
    "collapsed": false
   },
   "outputs": [],
   "source": [
    "mean= mean0.loc[ls]"
   ]
  },
  {
   "cell_type": "code",
   "execution_count": 220,
   "metadata": {
    "collapsed": false
   },
   "outputs": [],
   "source": [
    "mean = pd.concat([mean0.loc[ls],mean1.loc[ls],mean3.loc[ls],mean5.loc[ls]], axis =1)"
   ]
  },
  {
   "cell_type": "code",
   "execution_count": 221,
   "metadata": {
    "collapsed": false
   },
   "outputs": [],
   "source": [
    "std = pd.concat([std0.loc[ls],std1.loc[ls],std3.loc[ls],std5.loc[ls]], axis =1)"
   ]
  },
  {
   "cell_type": "code",
   "execution_count": 251,
   "metadata": {
    "collapsed": false
   },
   "outputs": [],
   "source": [
    "plt.rcParams['figure.figsize'] = (100.0, 15.0)"
   ]
  },
  {
   "cell_type": "code",
   "execution_count": 252,
   "metadata": {
    "collapsed": false
   },
   "outputs": [
    {
     "data": {
      "text/plain": [
       "<matplotlib.legend.Legend at 0xc0080b8>"
      ]
     },
     "execution_count": 252,
     "metadata": {},
     "output_type": "execute_result"
    },
    {
     "data": {
      "image/png": "[encoded data removed]",
      "text/plain": [
       "<matplotlib.figure.Figure at 0xce090f0>"
      ]
     },
     "metadata": {},
     "output_type": "display_data"
    }
   ],
   "source": [
    "%matplotlib inline\n",
    "#movie_titles = movie_titles.set_index(\"movies_id\")\n",
    "movie_axis = movie_titles.loc[ls]\n",
    "movie_axis = list(movie_axis['title'])\n",
    "\n",
    "N = 5\n",
    "ind = np.arange(N)  # the x locations for the groups\n",
    "width = 0.20       # the width of the bars\n",
    "fig, ax = plt.subplots()\n",
    "\n",
    "rects1 = ax.bar(ind, list(mean[0]), width, color='r',yerr=list(std[0]))\n",
    "rects2 = ax.bar(ind + width, list(mean[1]), width, color='b',yerr=list(std[1]))\n",
    "rects3 = ax.bar(ind + width*2, list(mean[2]), width, color='g',yerr=list(std[2]))\n",
    "rects4 = ax.bar(ind + width*3, list(mean[3]), width, color='y',yerr=list(std[3]))\n",
    "\n",
    "# add some text for labels, title and axes ticks\n",
    "ax.set_ylabel('Scores')\n",
    "ax.set_title(\"Average Across 5 Movies\")\n",
    "ax.set_xticks(ind + width)\n",
    "ax.set_xticklabels(movie_axis)\n",
    "\n",
    "\n",
    "ax.legend((rects1[0], rects2[0],rects3[0],rects4[0]), ('Actual', 'SVD_std', 'SVD_Decoup', 'ALS_Decoup'), loc = 9)"
   ]
  },
  {
   "cell_type": "code",
   "execution_count": 226,
   "metadata": {
    "collapsed": false
   },
   "outputs": [
    {
     "data": {
      "text/html": [
       "<div>\n",
       "<table border=\"1\" class=\"dataframe\">\n",
       "  <thead>\n",
       "    <tr style=\"text-align: right;\">\n",
       "      <th></th>\n",
       "      <th>0</th>\n",
       "      <th>1</th>\n",
       "      <th>2</th>\n",
       "      <th>3</th>\n",
       "    </tr>\n",
       "  </thead>\n",
       "  <tbody>\n",
       "    <tr>\n",
       "      <th>1</th>\n",
       "      <td>4.454962</td>\n",
       "      <td>4.146356</td>\n",
       "      <td>4.141204</td>\n",
       "      <td>4.212571</td>\n",
       "    </tr>\n",
       "    <tr>\n",
       "      <th>56</th>\n",
       "      <td>1.569965</td>\n",
       "      <td>2.001670</td>\n",
       "      <td>1.855339</td>\n",
       "      <td>1.999923</td>\n",
       "    </tr>\n",
       "    <tr>\n",
       "      <th>146</th>\n",
       "      <td>1.723691</td>\n",
       "      <td>2.890161</td>\n",
       "      <td>2.860527</td>\n",
       "      <td>2.885068</td>\n",
       "    </tr>\n",
       "    <tr>\n",
       "      <th>3114</th>\n",
       "      <td>4.759612</td>\n",
       "      <td>4.218280</td>\n",
       "      <td>4.215064</td>\n",
       "      <td>4.281136</td>\n",
       "    </tr>\n",
       "    <tr>\n",
       "      <th>3287</th>\n",
       "      <td>1.503855</td>\n",
       "      <td>2.727379</td>\n",
       "      <td>2.678494</td>\n",
       "      <td>2.723856</td>\n",
       "    </tr>\n",
       "  </tbody>\n",
       "</table>\n",
       "</div>"
      ],
      "text/plain": [
       "             0         1         2         3\n",
       "1     4.454962  4.146356  4.141204  4.212571\n",
       "56    1.569965  2.001670  1.855339  1.999923\n",
       "146   1.723691  2.890161  2.860527  2.885068\n",
       "3114  4.759612  4.218280  4.215064  4.281136\n",
       "3287  1.503855  2.727379  2.678494  2.723856"
      ]
     },
     "execution_count": 226,
     "metadata": {},
     "output_type": "execute_result"
    }
   ],
   "source": [
    "mean"
   ]
  },
  {
   "cell_type": "code",
   "execution_count": 253,
   "metadata": {
    "collapsed": false
   },
   "outputs": [
    {
     "data": {
      "text/html": [
       "<div>\n",
       "<table border=\"1\" class=\"dataframe\">\n",
       "  <thead>\n",
       "    <tr style=\"text-align: right;\">\n",
       "      <th></th>\n",
       "      <th>0</th>\n",
       "      <th>1</th>\n",
       "      <th>2</th>\n",
       "      <th>3</th>\n",
       "    </tr>\n",
       "  </thead>\n",
       "  <tbody>\n",
       "    <tr>\n",
       "      <th>1</th>\n",
       "      <td>0.851995</td>\n",
       "      <td>0.002707</td>\n",
       "      <td>0.019190</td>\n",
       "      <td>0.072509</td>\n",
       "    </tr>\n",
       "    <tr>\n",
       "      <th>56</th>\n",
       "      <td>1.435858</td>\n",
       "      <td>0.009319</td>\n",
       "      <td>0.002912</td>\n",
       "      <td>0.000000</td>\n",
       "    </tr>\n",
       "    <tr>\n",
       "      <th>146</th>\n",
       "      <td>1.357996</td>\n",
       "      <td>0.003565</td>\n",
       "      <td>0.058054</td>\n",
       "      <td>0.000440</td>\n",
       "    </tr>\n",
       "    <tr>\n",
       "      <th>3114</th>\n",
       "      <td>0.929881</td>\n",
       "      <td>0.002488</td>\n",
       "      <td>0.017781</td>\n",
       "      <td>0.054679</td>\n",
       "    </tr>\n",
       "    <tr>\n",
       "      <th>3287</th>\n",
       "      <td>1.142512</td>\n",
       "      <td>0.003914</td>\n",
       "      <td>0.114635</td>\n",
       "      <td>0.006362</td>\n",
       "    </tr>\n",
       "  </tbody>\n",
       "</table>\n",
       "</div>"
      ],
      "text/plain": [
       "             0         1         2         3\n",
       "1     0.851995  0.002707  0.019190  0.072509\n",
       "56    1.435858  0.009319  0.002912  0.000000\n",
       "146   1.357996  0.003565  0.058054  0.000440\n",
       "3114  0.929881  0.002488  0.017781  0.054679\n",
       "3287  1.142512  0.003914  0.114635  0.006362"
      ]
     },
     "execution_count": 253,
     "metadata": {},
     "output_type": "execute_result"
    }
   ],
   "source": [
    "std"
   ]
  },
  {
   "cell_type": "markdown",
   "metadata": {},
   "source": [
    "## Results and Discussion"
   ]
  },
  {
   "cell_type": "markdown",
   "metadata": {},
   "source": [
    "The above code shows that the factorization techniques utilized produce accurate results, that mimicked the actual data well on a large scale. However, what we don't see from the data is much diversity, and it's like that the factorization that we employed produced much more of a overfitting then we would like to see. As you can see from the above graph, the standard deviations across the users was very small after factorization. This is likely due to the fact that mean-centered techniques were used, and the matrix factorization produced relatively small changes overall.  "
   ]
  },
  {
   "cell_type": "markdown",
   "metadata": {},
   "source": [
    "## References"
   ]
  },
  {
   "cell_type": "markdown",
   "metadata": {},
   "source": [
    "[1]Nguyen, J., and Zhu, M.  Content-boosted matrix factorization techniques for recommender systems. *Statistical\n",
    "Analysis and Data Mining* 2013: 6(4):286–301. https://arxiv.org/pdf/1210.5631.pdf"
   ]
  },
  {
   "cell_type": "markdown",
   "metadata": {},
   "source": [
    "[2]Vozalis, M. and Margaritis K.; Applying SVD on Generalized Item-based Filtering International Journal of Computer Science & Applications 2006; Vol.3 Is.3, pp 27- 51 http://www.tmrfindia.org/ijcsa/v3i34.pdf"
   ]
  },
  {
   "cell_type": "markdown",
   "metadata": {},
   "source": [
    "[3]Harper, F.M. and Konstan, J.; The MovieLens Datasets: History and Context. ACM Transactions on Interactive Intelligent Systems (TiiS) 2015: 5, 4, Article 19, 19 pages. http://dx.doi.org/10.1145/2827872 http://grouplens.org/datasets/movielens/"
   ]
  },
  {
   "cell_type": "markdown",
   "metadata": {},
   "source": [
    "[4]G. Adomavicius, A. Tuzhilin, Context-Aware recommender Systems, in: F. Ricci, et al. (Ed.), Recommender Systems Handbook, 2011, pp. 217–253. http://ids.csom.umn.edu/faculty/gedas/nsfcareer/CARS-chapter-2010.pdf"
   ]
  },
  {
   "cell_type": "markdown",
   "metadata": {},
   "source": [
    "[5]Barjasteh, I., Forsati, R., et al. Cold-Start Item and User Recommendation with Decoupled Completion and Transduction\n",
    "https://www.cse.msu.edu/~forsati/cold-recsys2015.pdf (This is the slide, I am trying to obtain the PDF through the website)"
   ]
  },
  {
   "cell_type": "markdown",
   "metadata": {},
   "source": [
    "[6] Bugra, A. Alternating Least Squares Method for Collaborative Filtering Bugra Machine Learning Newletter 2014 http://bugra.github.io/work/notes/2014-04-19/alternating-least-squares-method-for-collaborative-filtering/"
   ]
  },
  {
   "cell_type": "code",
   "execution_count": null,
   "metadata": {
    "collapsed": true
   },
   "outputs": [],
   "source": []
  }
 ],
 "metadata": {
  "kernelspec": {
   "display_name": "Python 2",
   "language": "python",
   "name": "python2"
  },
  "language_info": {
   "codemirror_mode": {
    "name": "ipython",
    "version": 2
   },
   "file_extension": ".py",
   "mimetype": "text/x-python",
   "name": "python",
   "nbconvert_exporter": "python",
   "pygments_lexer": "ipython2",
   "version": "2.7.11"
  }
 },
 "nbformat": 4,
 "nbformat_minor": 0
}
